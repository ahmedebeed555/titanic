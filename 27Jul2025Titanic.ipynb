{
  "nbformat": 4,
  "nbformat_minor": 0,
  "metadata": {
    "colab": {
      "provenance": [],
      "authorship_tag": "ABX9TyOniKSU+h1Hu8GL4gEeYbja",
      "include_colab_link": true
    },
    "kernelspec": {
      "name": "python3",
      "display_name": "Python 3"
    },
    "language_info": {
      "name": "python"
    }
  },
  "cells": [
    {
      "cell_type": "markdown",
      "metadata": {
        "id": "view-in-github",
        "colab_type": "text"
      },
      "source": [
        "<a href=\"https://colab.research.google.com/github/ahmedebeed555/titanic/blob/main/27Jul2025Titanic.ipynb\" target=\"_parent\"><img src=\"https://colab.research.google.com/assets/colab-badge.svg\" alt=\"Open In Colab\"/></a>"
      ]
    },
    {
      "cell_type": "code",
      "execution_count": null,
      "metadata": {
        "colab": {
          "base_uri": "https://localhost:8080/"
        },
        "id": "Pc-y5i8Xgknu",
        "outputId": "65cfa6c0-1823-4e43-8f79-40ea8791ffa4"
      },
      "outputs": [
        {
          "output_type": "stream",
          "name": "stdout",
          "text": [
            "Validation Accuracy: 0.8100558659217877\n",
            "Submission file saved as submission.csv\n"
          ]
        }
      ],
      "source": [
        "import pandas as pd\n",
        "from sklearn.linear_model import LogisticRegression\n",
        "from sklearn.model_selection import train_test_split\n",
        "from sklearn.metrics import accuracy_score\n",
        "\n",
        "# Load the data\n",
        "train = pd.read_csv('/content/train.csv')\n",
        "test = pd.read_csv('/content/test.csv')\n",
        "\n",
        "# Select features and target\n",
        "features = ['Pclass', 'Sex', 'Age', 'SibSp', 'Parch', 'Fare']\n",
        "\n",
        "# Preprocess training data\n",
        "X = train[features].copy()\n",
        "X['Sex'] = X['Sex'].map({'male': 0, 'female': 1})\n",
        "X['Age'] = X['Age'].fillna(X['Age'].median())\n",
        "X['Fare'] = X['Fare'].fillna(X['Fare'].median())\n",
        "y = train['Survived']\n",
        "\n",
        "# Split for validation\n",
        "X_train, X_val, y_train, y_val = train_test_split(X, y, test_size=0.2, random_state=42)\n",
        "\n",
        "# Train model\n",
        "model = LogisticRegression(max_iter=1000)\n",
        "model.fit(X_train, y_train)\n",
        "\n",
        "# Validate model\n",
        "val_preds = model.predict(X_val)\n",
        "print(\"Validation Accuracy:\", accuracy_score(y_val, val_preds))\n",
        "\n",
        "# Preprocess test data\n",
        "X_test = test[features].copy()\n",
        "X_test['Sex'] = X_test['Sex'].map({'male': 0, 'female': 1})\n",
        "X_test['Age'] = X_test['Age'].fillna(X['Age'].median())\n",
        "X_test['Fare'] = X_test['Fare'].fillna(X['Fare'].median())\n",
        "\n",
        "# Make predictions\n",
        "test_preds = model.predict(X_test)\n",
        "\n",
        "# Prepare submission\n",
        "submission = pd.DataFrame({\n",
        "    'PassengerId': test['PassengerId'],\n",
        "    'Survived': test_preds\n",
        "})\n",
        "submission.to_csv('/content/submission.csv', index=False)\n",
        "print(\"Submission file saved as submission.csv\")\n"
      ]
    },
    {
      "cell_type": "code",
      "source": [
        "import pandas as pd\n",
        "from sklearn.ensemble import RandomForestClassifier\n",
        "from sklearn.model_selection import train_test_split\n",
        "from sklearn.metrics import accuracy_score\n",
        "\n",
        "# Load data\n",
        "train = pd.read_csv('/content/train.csv')\n",
        "test = pd.read_csv('/content/test.csv')\n",
        "\n",
        "# ===== Feature Engineering =====\n",
        "\n",
        "# Title from Name\n",
        "for df in [train, test]:\n",
        "    df['Title'] = df['Name'].str.extract(' ([A-Za-z]+)\\.', expand=False)\n",
        "    df['Title'] = df['Title'].replace(\n",
        "        ['Lady', 'Countess', 'Capt', 'Col', 'Don', 'Dr', 'Major', 'Rev', 'Sir', 'Jonkheer', 'Dona'],\n",
        "        'Rare')\n",
        "    df['Title'] = df['Title'].replace(['Mlle', 'Ms'], 'Miss')\n",
        "    df['Title'] = df['Title'].replace('Mme', 'Mrs')\n",
        "\n",
        "    title_map = {'Mr': 1, 'Miss': 2, 'Mrs': 3, 'Master': 4, 'Rare': 5}\n",
        "    df['Title'] = df['Title'].map(title_map).fillna(0)\n",
        "\n",
        "# Family Size & IsAlone\n",
        "for df in [train, test]:\n",
        "    df['FamilySize'] = df['SibSp'] + df['Parch'] + 1\n",
        "    df['IsAlone'] = (df['FamilySize'] == 1).astype(int)\n",
        "\n",
        "# Map Sex to numeric\n",
        "for df in [train, test]:\n",
        "    df['Sex'] = df['Sex'].map({'male': 0, 'female': 1})\n",
        "\n",
        "# Fill missing Age with median by Pclass and Sex\n",
        "for df in [train, test]:\n",
        "    df['Age'] = df['Age'].fillna(df.groupby(['Sex', 'Pclass'])['Age'].transform('median'))\n",
        "\n",
        "# Fill missing Fare in test set\n",
        "test['Fare'] = test['Fare'].fillna(test['Fare'].median())\n",
        "\n",
        "# Fill missing Embarked with mode\n",
        "train['Embarked'] = train['Embarked'].fillna(train['Embarked'].mode()[0])\n",
        "test['Embarked'] = test['Embarked'].fillna(test['Embarked'].mode()[0])\n",
        "\n",
        "# Encode Embarked\n",
        "for df in [train, test]:\n",
        "    df['Embarked'] = df['Embarked'].map({'S': 0, 'C': 1, 'Q': 2}).astype(int)\n",
        "\n",
        "# ===== Feature Selection =====\n",
        "features = ['Pclass', 'Sex', 'Age', 'Fare', 'Embarked', 'Title', 'FamilySize', 'IsAlone']\n",
        "X = train[features]\n",
        "y = train['Survived']\n",
        "X_test = test[features]\n",
        "\n",
        "# ===== Model Training =====\n",
        "X_train, X_val, y_train, y_val = train_test_split(X, y, test_size=0.2, random_state=42)\n",
        "\n",
        "model = RandomForestClassifier(n_estimators=100, random_state=42)\n",
        "model.fit(X_train, y_train)\n",
        "\n",
        "# ===== Evaluation =====\n",
        "val_preds = model.predict(X_val)\n",
        "print(\"Validation Accuracy:\", accuracy_score(y_val, val_preds))\n",
        "\n",
        "# ===== Prediction & Submission =====\n",
        "test_preds = model.predict(X_test)\n",
        "submission = pd.DataFrame({'PassengerId': test['PassengerId'], 'Survived': test_preds})\n",
        "submission.to_csv('/content/submission.csv', index=False)\n",
        "print(\"✅ Submission file saved as 'submission.csv'\")\n"
      ],
      "metadata": {
        "colab": {
          "base_uri": "https://localhost:8080/"
        },
        "id": "8OOT-TPfqlVR",
        "outputId": "539df85d-e733-4deb-d134-903de9c01b21"
      },
      "execution_count": null,
      "outputs": [
        {
          "output_type": "stream",
          "name": "stdout",
          "text": [
            "Validation Accuracy: 0.8379888268156425\n",
            "✅ Submission file saved as 'submission.csv'\n"
          ]
        }
      ]
    },
    {
      "cell_type": "code",
      "source": [
        "import pandas as pd\n",
        "from xgboost import XGBClassifier\n",
        "from sklearn.model_selection import train_test_split\n",
        "from sklearn.metrics import accuracy_score\n",
        "\n",
        "# Load Data\n",
        "train = pd.read_csv('/content/train.csv')\n",
        "test = pd.read_csv('/content/test.csv')\n",
        "\n",
        "# ===== Feature Engineering =====\n",
        "for df in [train, test]:\n",
        "    # Title from Name\n",
        "    df['Title'] = df['Name'].str.extract(' ([A-Za-z]+)\\.', expand=False)\n",
        "    df['Title'] = df['Title'].replace(\n",
        "        ['Lady', 'Countess', 'Capt', 'Col', 'Don', 'Dr', 'Major', 'Rev', 'Sir', 'Jonkheer', 'Dona'],\n",
        "        'Rare')\n",
        "    df['Title'] = df['Title'].replace(['Mlle', 'Ms'], 'Miss')\n",
        "    df['Title'] = df['Title'].replace('Mme', 'Mrs')\n",
        "    df['Title'] = df['Title'].map({'Mr': 1, 'Miss': 2, 'Mrs': 3, 'Master': 4, 'Rare': 5}).fillna(0)\n",
        "\n",
        "    # Family Features\n",
        "    df['FamilySize'] = df['SibSp'] + df['Parch'] + 1\n",
        "    df['IsAlone'] = (df['FamilySize'] == 1).astype(int)\n",
        "\n",
        "    # Encode Sex\n",
        "    df['Sex'] = df['Sex'].map({'male': 0, 'female': 1})\n",
        "\n",
        "    # Fill Age by group median\n",
        "    df['Age'] = df['Age'].fillna(df.groupby(['Sex', 'Pclass'])['Age'].transform('median'))\n",
        "\n",
        "    # Fill Fare\n",
        "    df['Fare'] = df['Fare'].fillna(df['Fare'].median())\n",
        "\n",
        "    # Fill Embarked\n",
        "    df['Embarked'] = df['Embarked'].fillna('S')\n",
        "    df['Embarked'] = df['Embarked'].map({'S': 0, 'C': 1, 'Q': 2}).astype(int)\n",
        "\n",
        "# ===== Select Features =====\n",
        "features = ['Pclass', 'Sex', 'Age', 'Fare', 'Embarked', 'Title', 'FamilySize', 'IsAlone']\n",
        "X = train[features]\n",
        "y = train['Survived']\n",
        "X_test = test[features]\n",
        "\n",
        "# ===== Train/Test Split =====\n",
        "X_train, X_val, y_train, y_val = train_test_split(X, y, test_size=0.2, random_state=42)\n",
        "\n",
        "# ===== XGBoost Model =====\n",
        "model = XGBClassifier(use_label_encoder=False, eval_metric='logloss', random_state=42)\n",
        "model.fit(X_train, y_train)\n",
        "\n",
        "# ===== Validation Accuracy =====\n",
        "val_preds = model.predict(X_val)\n",
        "print(\"Validation Accuracy:\", accuracy_score(y_val, val_preds))\n",
        "\n",
        "# ===== Predict on Test Data =====\n",
        "test_preds = model.predict(X_test)\n",
        "\n",
        "# ===== Submission File =====\n",
        "submission = pd.DataFrame({\n",
        "    'PassengerId': test['PassengerId'],\n",
        "    'Survived': test_preds\n",
        "})\n",
        "submission.to_csv('/content/submission.csv', index=False)\n",
        "print(\"✅ Submission saved as '/content/submission.csv'\")\n"
      ],
      "metadata": {
        "id": "aLLl0W5t1eNr",
        "outputId": "321aaa65-cc17-4004-9380-3fafa00f7554",
        "colab": {
          "base_uri": "https://localhost:8080/"
        }
      },
      "execution_count": null,
      "outputs": [
        {
          "output_type": "stream",
          "name": "stderr",
          "text": [
            "/usr/local/lib/python3.11/dist-packages/xgboost/training.py:183: UserWarning: [17:02:37] WARNING: /workspace/src/learner.cc:738: \n",
            "Parameters: { \"use_label_encoder\" } are not used.\n",
            "\n",
            "  bst.update(dtrain, iteration=i, fobj=obj)\n"
          ]
        },
        {
          "output_type": "stream",
          "name": "stdout",
          "text": [
            "Validation Accuracy: 0.8491620111731844\n",
            "✅ Submission saved as '/content/submission.csv'\n"
          ]
        }
      ]
    }
  ]
}